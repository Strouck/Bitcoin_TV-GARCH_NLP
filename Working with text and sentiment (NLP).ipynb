{
 "cells": [
  {
   "cell_type": "markdown",
   "id": "104977e9",
   "metadata": {},
   "source": [
    "## Working with text and sentiment (NLP)"
   ]
  },
  {
   "cell_type": "markdown",
   "id": "11febc70",
   "metadata": {},
   "source": [
    "### Preparing text dataframe"
   ]
  },
  {
   "cell_type": "code",
   "execution_count": 1,
   "id": "73f9164d",
   "metadata": {},
   "outputs": [],
   "source": [
    "import warnings\n",
    "warnings.filterwarnings('ignore')"
   ]
  },
  {
   "cell_type": "code",
   "execution_count": 2,
   "id": "d4a8a1ce",
   "metadata": {},
   "outputs": [],
   "source": [
    "import numpy as np\n",
    "import pandas as pd\n",
    "import matplotlib.pyplot as plt\n",
    "from bs4 import BeautifulSoup\n",
    "from collections import Counter"
   ]
  },
  {
   "cell_type": "code",
   "execution_count": 3,
   "id": "cb015666",
   "metadata": {},
   "outputs": [],
   "source": [
    "Google_news=pd.read_csv('Google_news.csv')\n",
    "Google_news.drop(columns=['Unnamed: 0','link','Ticker'], inplace=True)"
   ]
  },
  {
   "cell_type": "markdown",
   "id": "3c80115e",
   "metadata": {},
   "source": [
    "### Cleaning"
   ]
  },
  {
   "cell_type": "code",
   "execution_count": 4,
   "id": "0fb9a1b0",
   "metadata": {},
   "outputs": [],
   "source": [
    "Head = Google_news['Head'].to_list()\n",
    "Source = Google_news['source'].to_list()\n",
    "for i in range(len(Source)):\n",
    "    if Source[i] in Head[i]:\n",
    "        Head[i] = Head[i].replace(Source[i], '')\n",
    "Google_news['Head']=Head"
   ]
  },
  {
   "cell_type": "code",
   "execution_count": 105,
   "id": "2b62bff0",
   "metadata": {},
   "outputs": [],
   "source": [
    "Google_news_classic = Google_news[Google_news['marker']==0]\n",
    "Google_news_crypto = Google_news[Google_news['marker']==1]"
   ]
  },
  {
   "cell_type": "code",
   "execution_count": 106,
   "id": "b90fb060",
   "metadata": {},
   "outputs": [],
   "source": [
    "dates_classic = Google_news_classic['marker'].groupby(Google_news_classic['Date']).mean().index\n",
    "dates_crypto = Google_news_crypto['marker'].groupby(Google_news_crypto['Date']).mean().index\n",
    "dates_list_crypto=[]\n",
    "for i in dates_crypto:\n",
    "    if i not in dates_classic:\n",
    "        dates_list_crypto.append(i)\n",
    "dates_list_classic=[]\n",
    "for i in dates_classic:\n",
    "    if i not in dates_crypto:\n",
    "        dates_list_classic.append(i)\n",
    "dates_list=dates_list_crypto + dates_list_classic\n",
    "list=[]\n",
    "for i in Google_news['Date']:\n",
    "    if i in dates_list:\n",
    "        list.append(0)\n",
    "    else:\n",
    "        list.append(1)\n",
    "Google_news['flag']=list\n",
    "Google_news_final=Google_news[Google_news['flag']==1]\n",
    "Google_news_final.drop(columns=['flag'],inplace=True)\n",
    "\n",
    "#final news dataset where there are both crypto and classic news sources presented"
   ]
  },
  {
   "cell_type": "markdown",
   "id": "a2101533",
   "metadata": {},
   "source": [
    "### Text preprocessing"
   ]
  },
  {
   "cell_type": "code",
   "execution_count": 107,
   "id": "a7dc6a32",
   "metadata": {},
   "outputs": [],
   "source": [
    "import nltk\n",
    "import string\n",
    "import re\n",
    "import inflect\n",
    "from nltk.corpus import stopwords\n",
    "from nltk.tokenize import word_tokenize\n",
    "from nltk.stem.porter import PorterStemmer"
   ]
  },
  {
   "cell_type": "code",
   "execution_count": 108,
   "id": "2e8a8978",
   "metadata": {},
   "outputs": [],
   "source": [
    "#first we need to lowercase text to reduce the size of the vocabulary of our text data\n",
    "def text_lowercase(text):\n",
    "    return text.lower()\n",
    "\n",
    "#convert numbers to text\n",
    "p = inflect.engine()\n",
    "def convert_number(text):\n",
    "\n",
    "    temp_str = text.split()\n",
    "\n",
    "    new_string = []\n",
    " \n",
    "    for word in temp_str:\n",
    "\n",
    "        if word.isdigit():\n",
    "            temp = p.number_to_words(word)\n",
    "            new_string.append(temp)\n",
    " \n",
    "        else:\n",
    "            new_string.append(word)\n",
    " \n",
    "    temp_str = ' '.join(new_string)\n",
    "    return temp_str\n",
    "\n",
    "#remove punctuation\n",
    "def remove_punctuation(text):\n",
    "    translator = str.maketrans('', '', string.punctuation)\n",
    "    return text.translate(translator)\n",
    "\n",
    "#removing whitespaces (if any)\n",
    "def remove_whitespace(text):\n",
    "    return  \" \".join(text.split())\n",
    "\n",
    "# removing stopwords\n",
    "def remove_stopwords(text):\n",
    "    stop_words = set(stopwords.words(\"english\"))\n",
    "    word_tokens = word_tokenize(text)\n",
    "    filtered_text = [word for word in word_tokens if word not in stop_words]\n",
    "    return filtered_text\n",
    "\n",
    "# stem words in the list of tokenized words (tokinized previously)\n",
    "\n",
    "stemmer = PorterStemmer()\n",
    "def stem_words(text):\n",
    "    stemmer = PorterStemmer()\n",
    "    stems = [stemmer.stem(word) for word in text]\n",
    "    return stems\n",
    "\n",
    "#no lemmatisation will be because stemmatisation is enough for our prob"
   ]
  },
  {
   "cell_type": "code",
   "execution_count": 109,
   "id": "1664a469",
   "metadata": {},
   "outputs": [],
   "source": [
    "Google_news_final['Head']=Google_news_final['Head'].apply(text_lowercase)\n",
    "Google_news_final['Head']=Google_news_final['Head'].apply(convert_number)\n",
    "Google_news_final['Head']=Google_news_final['Head'].apply(remove_punctuation)\n",
    "Google_news_final['Head']=Google_news_final['Head'].apply(remove_whitespace)\n",
    "#For word clouds\n",
    "#Google_news_final['Head']=Google_news_final['Head'].apply(remove_stopwords)\n",
    "#Google_news_final['Head']=Google_news_final['Head'].apply(stem_words)"
   ]
  },
  {
   "cell_type": "code",
   "execution_count": 78,
   "id": "dbacc27a",
   "metadata": {},
   "outputs": [],
   "source": [
    "#for wordclouds"
   ]
  },
  {
   "cell_type": "code",
   "execution_count": 48,
   "id": "8b8018bb",
   "metadata": {},
   "outputs": [],
   "source": [
    "Google_news_crypto_clouds=Google_news_final[Google_news_final['marker']==1].copy(deep=True)\n",
    "Google_news_classic_clouds=Google_news_final[Google_news_final['marker']==0].copy(deep=True)\n"
   ]
  },
  {
   "cell_type": "code",
   "execution_count": 74,
   "id": "c80c2506",
   "metadata": {},
   "outputs": [],
   "source": [
    "crypto_words_list=[]\n",
    "for i in Google_news_crypto_clouds['Head']:\n",
    "    for j in i:\n",
    "        crypto_words_list.append(j)\n",
    "Counter_crypto=Counter(crypto_words_list)\n",
    "Counter_crypto.keys()\n",
    "keys_crypto=[key for key in Counter_crypto.keys()]\n",
    "value_crypto=[value for value in Counter_crypto.values()]\n",
    "\n",
    "Wordcloud_crytpo={'keys_crypto':keys_crypto,'values':value_crypto}\n",
    "Wordcloud_crytpo=pd.DataFrame(Wordcloud_crytpo)"
   ]
  },
  {
   "cell_type": "code",
   "execution_count": 76,
   "id": "66b9e080",
   "metadata": {},
   "outputs": [],
   "source": [
    "classic_words_list=[]\n",
    "for i in Google_news_classic_clouds['Head']:\n",
    "    for j in i:\n",
    "        classic_words_list.append(j)\n",
    "Counter_classic=Counter(classic_words_list)\n",
    "Counter_classic.keys()\n",
    "keys_classic=[key for key in Counter_classic.keys()]\n",
    "value_classic=[value for value in Counter_classic.values()]\n",
    "\n",
    "Wordcloud_classic={'keys_crypto':keys_classic,'values':value_classic}\n",
    "Wordcloud_classic=pd.DataFrame(Wordcloud_classic)"
   ]
  },
  {
   "cell_type": "code",
   "execution_count": 80,
   "id": "edcac36c",
   "metadata": {},
   "outputs": [],
   "source": [
    "Wordcloud_crytpo.to_csv('Wordcloud_crytpo.csv')\n",
    "Wordcloud_classic.to_csv('Wordcloud_classic.csv')"
   ]
  },
  {
   "cell_type": "code",
   "execution_count": 79,
   "id": "4efe1310",
   "metadata": {},
   "outputs": [],
   "source": [
    "#for wordclouds"
   ]
  },
  {
   "cell_type": "code",
   "execution_count": 110,
   "id": "bc2ef857",
   "metadata": {},
   "outputs": [],
   "source": [
    "Google_news_crypto_drop=Google_news_final[Google_news_final['marker']==1].copy(deep=True)\n",
    "Google_news_classic_drop=Google_news_final[Google_news_final['marker']==0].copy(deep=True)"
   ]
  },
  {
   "cell_type": "markdown",
   "id": "69ada44a",
   "metadata": {},
   "source": [
    "### Sentiment 1: VADER"
   ]
  },
  {
   "cell_type": "code",
   "execution_count": 111,
   "id": "e1c18cd9",
   "metadata": {},
   "outputs": [],
   "source": [
    "# import SentimentIntensityAnalyzer class\n",
    "# from vaderSentiment.vaderSentiment module\n",
    "\n",
    "from vaderSentiment.vaderSentiment import SentimentIntensityAnalyzer\n",
    " \n",
    "# function to print sentiments of the sentence\n",
    "\n",
    "def sentiment_scores(sentence, list_comp):\n",
    " \n",
    "    # Create a SentimentIntensityAnalyzer object\n",
    "    \n",
    "    sid_obj = SentimentIntensityAnalyzer()\n",
    " \n",
    "    # polarity_scores method of SentimentIntensityAnalyzer\n",
    "    # object gives a sentiment dictionary.\n",
    "    # which contains pos, neg, neu, and compound scores\n",
    "    \n",
    "    sentiment_dict = sid_obj.polarity_scores(sentence)\n",
    "\n",
    "    list_comp.append(sentiment_dict['compound'])\n",
    "    "
   ]
  },
  {
   "cell_type": "code",
   "execution_count": 112,
   "id": "530a4f9d",
   "metadata": {},
   "outputs": [],
   "source": [
    "Setiment_comp_vader=[]\n",
    "\n",
    "\n",
    "#crypto news\n",
    "\n",
    "Crypto_news = Google_news_crypto_drop['Head'].to_list()\n",
    "\n",
    "for i in Crypto_news:\n",
    "  sentiment_scores(i,Setiment_comp_vader)\n",
    "\n",
    "Google_news_crypto_drop['Sentiment_VADER_comp_crypto']=Setiment_comp_vader"
   ]
  },
  {
   "cell_type": "code",
   "execution_count": 113,
   "id": "b8c6f13d",
   "metadata": {},
   "outputs": [],
   "source": [
    "#classic news\n",
    "Setiment_comp_vader_classic=[]\n",
    "\n",
    "Classic_news = Google_news_classic_drop['Head'].to_list()\n",
    "\n",
    "for i in Classic_news:\n",
    "  sentiment_scores(i,Setiment_comp_vader_classic)\n",
    "\n",
    "Google_news_classic_drop['Sentiment_VADER_comp_classic']=Setiment_comp_vader_classic"
   ]
  },
  {
   "cell_type": "code",
   "execution_count": 116,
   "id": "1fc7ac92",
   "metadata": {},
   "outputs": [],
   "source": [
    "Google_news_classic_drop['Date']=pd.to_datetime(Google_news_classic_drop['Date'])\n",
    "Google_news_crypto_drop['Date']=pd.to_datetime(Google_news_crypto_drop['Date'])"
   ]
  },
  {
   "cell_type": "code",
   "execution_count": 126,
   "id": "5fe7d471",
   "metadata": {},
   "outputs": [
    {
     "data": {
      "image/png": "[encoded data removed]",
      "text/plain": [
       "<Figure size 1152x360 with 1 Axes>"
      ]
     },
     "metadata": {
      "needs_background": "light"
     },
     "output_type": "display_data"
    }
   ],
   "source": [
    "plt.figure(figsize=(16,5))\n",
    "\n",
    "plt.xlabel('Date')\n",
    "plt.ylabel('Sentiment score')\n",
    "plt.bar(Google_news_classic_drop[Google_news_classic_drop['Date']>='2017-01-01']['Sentiment_VADER_comp_classic'].groupby(Google_news_classic_drop['Date']).mean().index, \n",
    "        Google_news_crypto_drop[Google_news_crypto_drop['Date']>='2017-01-01']['Sentiment_VADER_comp_crypto'].groupby(Google_news_crypto_drop['Date']).mean().values, \n",
    "        color='orange',label='Crypto specific sources')\n",
    "\n",
    "plt.bar(Google_news_classic_drop[Google_news_classic_drop['Date']>='2017-01-01']['Sentiment_VADER_comp_classic'].groupby(Google_news_classic_drop['Date']).mean().index, \n",
    "        Google_news_classic_drop[Google_news_classic_drop['Date']>='2017-01-01']['Sentiment_VADER_comp_classic'].groupby(Google_news_classic_drop['Date']).mean().values, \n",
    "        color='blue',label='Classic sources')\n",
    "\n",
    "plt.legend()\n",
    "\n",
    "plt.locator_params(axis='x',nbins=7)\n",
    "\n",
    "plt.savefig('sentiment.png', bbox_inches='tight')\n",
    "\n",
    "plt.show()\n",
    "\n",
    "#in fact for VADER it is better not to use text preprocessing"
   ]
  },
  {
   "cell_type": "markdown",
   "id": "ef59de2b",
   "metadata": {},
   "source": [
    "### Sentiment 2: TextBlob"
   ]
  },
  {
   "cell_type": "code",
   "execution_count": 24,
   "id": "6e5ba845",
   "metadata": {},
   "outputs": [],
   "source": [
    "from textblob import TextBlob"
   ]
  },
  {
   "cell_type": "code",
   "execution_count": 25,
   "id": "eba6ba6a",
   "metadata": {},
   "outputs": [],
   "source": [
    "def textblob(text):\n",
    "    text_analysis = text\n",
    "    blob = TextBlob(text_analysis)\n",
    "    sentiment = blob.sentiment\n",
    "    return sentiment[0]"
   ]
  },
  {
   "cell_type": "code",
   "execution_count": 26,
   "id": "84c35829",
   "metadata": {},
   "outputs": [],
   "source": [
    "Google_news_crypto_drop['textblob_crypto']=Google_news_crypto_drop['Head'].apply(lambda x: textblob(x))"
   ]
  },
  {
   "cell_type": "code",
   "execution_count": 27,
   "id": "83f2e54c",
   "metadata": {},
   "outputs": [],
   "source": [
    "Google_news_classic_drop['textblob_classic']=Google_news_classic_drop['Head'].apply(lambda x: textblob(x))"
   ]
  },
  {
   "cell_type": "code",
   "execution_count": 28,
   "id": "86e311cf",
   "metadata": {},
   "outputs": [
    {
     "data": {
      "image/png": "[encoded data removed]",
      "text/plain": [
       "<Figure size 1152x360 with 1 Axes>"
      ]
     },
     "metadata": {
      "needs_background": "light"
     },
     "output_type": "display_data"
    }
   ],
   "source": [
    "plt.figure(figsize=(16,5))\n",
    "\n",
    "\n",
    "plt.title('Классификация сентимента с использованием модели TextBlob')\n",
    "plt.xlabel('Date')\n",
    "plt.ylabel('Sentiment')\n",
    "plt.bar(Google_news_crypto_drop['textblob_crypto'].groupby(Google_news_crypto_drop['Date']).mean().index, \n",
    "        Google_news_crypto_drop['textblob_crypto'].groupby(Google_news_crypto_drop['Date']).mean().values, \n",
    "        color='orange')\n",
    "\n",
    "plt.bar(Google_news_classic_drop['textblob_classic'].groupby(Google_news_classic_drop['Date']).mean().index, \n",
    "        Google_news_classic_drop['textblob_classic'].groupby(Google_news_classic_drop['Date']).mean().values, \n",
    "        color='blue')\n",
    "\n",
    "\n",
    "plt.locator_params(axis='x',nbins=7)\n",
    "\n",
    "plt.show()"
   ]
  },
  {
   "cell_type": "code",
   "execution_count": 29,
   "id": "fa3913e6",
   "metadata": {},
   "outputs": [],
   "source": [
    "Google_news_classic_drop.to_csv('Google_news_classic_drop.csv')\n",
    "Google_news_crypto_drop.to_csv('Google_news_crypto_drop.csv')"
   ]
  }
 ],
 "metadata": {
  "kernelspec": {
   "display_name": "Python 3 (ipykernel)",
   "language": "python",
   "name": "python3"
  },
  "language_info": {
   "codemirror_mode": {
    "name": "ipython",
    "version": 3
   },
   "file_extension": ".py",
   "mimetype": "text/x-python",
   "name": "python",
   "nbconvert_exporter": "python",
   "pygments_lexer": "ipython3",
   "version": "3.9.12"
  }
 },
 "nbformat": 4,
 "nbformat_minor": 5
}
